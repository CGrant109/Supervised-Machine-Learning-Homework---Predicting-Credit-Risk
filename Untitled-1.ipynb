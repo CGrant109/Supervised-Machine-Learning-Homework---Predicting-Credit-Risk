{
 "cells": [
  {
   "cell_type": "code",
   "execution_count": null,
   "metadata": {},
   "outputs": [],
   "source": []
  }
 ],
 "metadata": {
  "kernelspec": {
   "display_name": "Python 3.10.2 64-bit",
   "language": "python",
   "name": "python3"
  },
  "language_info": {
   "name": "python",
   "version": "3.10.2"
  },
  "orig_nbformat": 4,
  "vscode": {
   "interpreter": {
    "hash": "064c575d74ee4d492a4f722e81f00c2cc20da1a96db10787655d9bb9fbc2f5bc"
   }
  }
 },
 "nbformat": 4,
 "nbformat_minor": 2
}
